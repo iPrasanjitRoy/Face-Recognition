{
 "cells": [
  {
   "cell_type": "code",
   "execution_count": null,
   "metadata": {},
   "outputs": [],
   "source": [
    "pip install opencv-python"
   ]
  },
  {
   "cell_type": "code",
   "execution_count": null,
   "metadata": {},
   "outputs": [],
   "source": [
    "pip install dlib"
   ]
  },
  {
   "cell_type": "code",
   "execution_count": null,
   "metadata": {},
   "outputs": [],
   "source": [
    "# Import Required Libraries\n",
    "import cv2\n",
    "import numpy as np\n",
    "import dlib\n",
    "\n",
    "# Connect To Your Computers Default Camera\n",
    "cap = cv2.VideoCapture(0)\n",
    "\n",
    "# Create A Face Detector Using Dlib\n",
    "detector = dlib.get_frontal_face_detector()\n",
    "\n",
    "# Capture Frames Continuously\n",
    "while True:\n",
    "    # Capture And Read A Frame From The Camera\n",
    "    ret, frame = cap.read()\n",
    "    frame = cv2.flip(\n",
    "        frame, 1\n",
    "    )  # Flip The Frame Horizontally For A Later Selfie-View Display\n",
    "\n",
    "    # Convert The Frame To Grayscale\n",
    "    gray = cv2.cvtColor(frame, cv2.COLOR_BGR2GRAY)\n",
    "\n",
    "    # Detect Faces In The Grayscale Frame\n",
    "    faces = detector(gray)\n",
    "\n",
    "    # Iterator To Count Faces\n",
    "    i = 0\n",
    "\n",
    "    # Iterate Over Detected Faces\n",
    "    for face in faces:\n",
    "        # Get The Coordinates Of Faces\n",
    "        x, y = face.left(), face.top()\n",
    "        x1, y1 = face.right(), face.bottom()\n",
    "\n",
    "        # Draw A Rectangle Around The Face\n",
    "        cv2.rectangle(frame, (x, y), (x1, y1), (0, 255, 0), 2)\n",
    "\n",
    "        # Increment Iterator For Each Face In Faces\n",
    "        i += 1\n",
    "\n",
    "        #  Display The Box And Face Number\n",
    "        cv2.putText(\n",
    "            frame,\n",
    "            \"Face Num\" + str(i),\n",
    "            (x - 10, y - 10), # Coordinates Of The Bottom-left Corner Of The Text String \n",
    "            cv2.FONT_HERSHEY_SIMPLEX, # Font Type \n",
    "            0.7, #  Font Scale Factor. It Determines The Size Of The Font Relative To The Image Size \n",
    "            (0, 0, 255),  # Color Of The Text  \n",
    "            2, # Thickness Of The Text \n",
    "        ) \n",
    "\n",
    "        print(face, i)\n",
    "\n",
    "    # Display The Resulting Frame\n",
    "    cv2.imshow(\"frame\", frame)\n",
    "\n",
    "    # Check For The 'q' Key To Quit The Video Stream\n",
    "    # Break The Loop If The 'q' Key Is Pressed\n",
    "    if cv2.waitKey(1) & 0xFF == ord(\"q\"):\n",
    "        break\n",
    "\n",
    "# Release The Capture And Destroy The Windows\n",
    "cap.release()\n",
    "cv2.destroyAllWindows()"
   ]
  }
 ],
 "metadata": {
  "kernelspec": {
   "display_name": "Python 3",
   "language": "python",
   "name": "python3"
  },
  "language_info": {
   "codemirror_mode": {
    "name": "ipython",
    "version": 3
   },
   "file_extension": ".py",
   "mimetype": "text/x-python",
   "name": "python",
   "nbconvert_exporter": "python",
   "pygments_lexer": "ipython3",
   "version": "3.12.0"
  }
 },
 "nbformat": 4,
 "nbformat_minor": 2
}
